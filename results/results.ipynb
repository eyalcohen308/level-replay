{
 "cells": [
  {
   "cell_type": "code",
   "execution_count": 1,
   "metadata": {},
   "outputs": [],
   "source": [
    "import pandas as pd\n",
    "import matplotlib.pyplot as plt\n"
   ]
  },
  {
   "cell_type": "code",
   "execution_count": 2,
   "metadata": {},
   "outputs": [],
   "source": [
    "dir = '../logs/ppo'\n",
    "file = 'logs.csv'\n",
    "experiments = [\n",
    "    'l1_Multiroom-N4-Random_23056',\n",
    "    'l1_ObstructedMazeGamut-Easy_27245',\n",
    "    'l1_ObstructedMazeGamut-Medium_107018',\n",
    "    'uniform_Multiroom-N4-Random_107954',\n",
    "    'uniform_ObstructedMazeGamut-Easy_195681',\n",
    "    'uniform_ObstructedMazeGamut-Medium_743'\n",
    "]\n",
    "field = 'test:mean_episode_return'"
   ]
  },
  {
   "cell_type": "code",
   "execution_count": 3,
   "metadata": {},
   "outputs": [],
   "source": [
    "results = {exp: pd.read_csv(f'{dir}/{exp}/{file}') for exp in experiments}"
   ]
  },
  {
   "cell_type": "code",
   "execution_count": 4,
   "metadata": {},
   "outputs": [],
   "source": [
    "def plot_exp(word, results, field=field):\n",
    "    fig, ax = plt.subplots()\n",
    "    legend = []\n",
    "    for exp, res in results.items():\n",
    "        if word in exp:\n",
    "            res[field].plot()\n",
    "            legend.append(exp.split('_')[0])\n",
    "    ax.legend(legend)"
   ]
  },
  {
   "cell_type": "code",
   "execution_count": 5,
   "metadata": {},
   "outputs": [],
   "source": [
    "plot_exp('MultiRoom', results)"
   ]
  },
  {
   "cell_type": "code",
   "execution_count": 6,
   "metadata": {},
   "outputs": [],
   "source": [
    "plot_exp('ObstructedMaze-1Dl-', results)"
   ]
  },
  {
   "cell_type": "code",
   "execution_count": 7,
   "metadata": {},
   "outputs": [],
   "source": [
    "plot_exp('ObstructedMaze-1Dlh', results)"
   ]
  }
 ],
 "metadata": {
  "interpreter": {
   "hash": "1d56a9f45756da9364709cc78ec5e1c9728ec6e84d80d149d6b6ca0a3ce9da9f"
  },
  "kernelspec": {
   "display_name": "Python 3.8.10 64-bit ('level-replay': conda)",
   "name": "python3"
  },
  "language_info": {
   "codemirror_mode": {
    "name": "ipython",
    "version": 3
   },
   "file_extension": ".py",
   "mimetype": "text/x-python",
   "name": "python",
   "nbconvert_exporter": "python",
   "pygments_lexer": "ipython3",
   "version": "3.8.10"
  },
  "metadata": {
   "interpreter": {
    "hash": "564cdc1de41461cf3645a27027bc33f03542a8c3b7d9aba91253ed895acbaaad"
   }
  },
  "orig_nbformat": 2
 },
 "nbformat": 4,
 "nbformat_minor": 2
}